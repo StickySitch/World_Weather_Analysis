{
 "cells": [
  {
   "cell_type": "code",
   "execution_count": 3,
   "id": "63600321",
   "metadata": {},
   "outputs": [],
   "source": [
    "# Importing the dependencies.\n",
    "import pandas as pd\n",
    "import matplotlib.pyplot as plt\n",
    "import numpy as np\n",
    "from citipy import citipy"
   ]
  },
  {
   "cell_type": "code",
   "execution_count": 4,
   "id": "4838cafe",
   "metadata": {},
   "outputs": [
    {
     "data": {
      "text/plain": "<zip at 0x1fe4bc537c8>"
     },
     "execution_count": 4,
     "metadata": {},
     "output_type": "execute_result"
    }
   ],
   "source": [
    "# Creating array of sets of random latitude and longitude\n",
    "lats = np.random.uniform(-90.000,90.000, size = 1500)\n",
    "lngs = np.random.uniform(-90.000,90.000, size = 1500)\n",
    "latLngs = zip(lats,lngs)\n",
    "latLngs"
   ]
  },
  {
   "cell_type": "code",
   "execution_count": 5,
   "id": "c4221609",
   "metadata": {},
   "outputs": [],
   "source": [
    "# Adding the latitudes & longitudes to a list\n",
    "coordinates = list(latLngs)"
   ]
  },
  {
   "cell_type": "code",
   "execution_count": 8,
   "id": "afe4fefc",
   "metadata": {},
   "outputs": [
    {
     "data": {
      "text/plain": "635"
     },
     "execution_count": 8,
     "metadata": {},
     "output_type": "execute_result"
    }
   ],
   "source": [
    "#Creating list of cities\n",
    "cities = []\n",
    "\n",
    "#Identifying the nearest city for each lat and long combo\n",
    "for coordinate in coordinates:\n",
    "    city = citipy.nearest_city(coordinate[0],coordinate[1]).city_name\n",
    "\n",
    "    #Checking to see if the city is unique. If so, it is added to the \"cities\" list.\n",
    "    if city not in cities:\n",
    "        cities.append(city)\n",
    "\n",
    "#print the city count to confirm there are enough\n",
    "len(cities)"
   ]
  },
  {
   "cell_type": "code",
   "execution_count": null,
   "outputs": [],
   "source": [],
   "metadata": {
    "collapsed": false,
    "pycharm": {
     "name": "#%%\n"
    }
   }
  }
 ],
 "metadata": {
  "kernelspec": {
   "display_name": "PythonData",
   "language": "python",
   "name": "pythondata"
  },
  "language_info": {
   "codemirror_mode": {
    "name": "ipython",
    "version": 3
   },
   "file_extension": ".py",
   "mimetype": "text/x-python",
   "name": "python",
   "nbconvert_exporter": "python",
   "pygments_lexer": "ipython3",
   "version": "3.7.10"
  }
 },
 "nbformat": 4,
 "nbformat_minor": 5
}