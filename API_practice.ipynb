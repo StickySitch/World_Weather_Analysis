{
 "cells": [
  {
   "cell_type": "code",
   "execution_count": 24,
   "id": "3618b4bb",
   "metadata": {},
   "outputs": [],
   "source": [
    "# Creating a practice set of random latitude and longitude combinations.\n",
    "x = [25.12903645, 25.92017388, 26.62509167, -59.98969384, 37.30571269]\n",
    "y = [-67.59741259, 11.09532135, 74.84233102, -76.89176677, -61.13376282]\n",
    "coordinates = zip(x, y)"
   ]
  },
  {
   "cell_type": "code",
   "execution_count": 25,
   "id": "02574b46",
   "metadata": {},
   "outputs": [
    {
     "name": "stdout",
     "output_type": "stream",
     "text": [
      "25.12903645 -67.59741259\n",
      "25.92017388 11.09532135\n",
      "26.62509167 74.84233102\n",
      "-59.98969384 -76.89176677\n",
      "37.30571269 -61.13376282\n"
     ]
    }
   ],
   "source": [
    "# Uses the tuple() function to display the latitude and longitude combinations.\n",
    "for coordinate in coordinates:\n",
    "    print(coordinate[0],coordinate[1])"
   ]
  },
  {
   "cell_type": "code",
   "execution_count": 26,
   "id": "580bdba4",
   "metadata": {},
   "outputs": [],
   "source": [
    "#importing dependency\n",
    "# Using the citipy module to determine city based on latitude and longitude.\n",
    "from citipy import citipy\n",
    "import sys\n",
    "# Creating a practice set of random latitude and longitude combinations.\n",
    "x = [25.12903645, 25.92017388, 26.62509167, -59.98969384, 37.30571269]\n",
    "y = [-67.59741259, 11.09532135, 74.84233102, -76.89176677, -61.13376282]\n",
    "coordinates = zip(x, y)"
   ]
  },
  {
   "cell_type": "code",
   "execution_count": 27,
   "id": "5f923a6b",
   "metadata": {},
   "outputs": [
    {
     "name": "stdout",
     "output_type": "stream",
     "text": [
      "cockburn town tc\n",
      "gat ly\n",
      "parvatsar in\n",
      "punta arenas cl\n",
      "saint george bm\n"
     ]
    }
   ],
   "source": [
    "# Using the tuple() function to display the latitude and longitude combinations.\n",
    "for coordinate in coordinates:\n",
    "    print(citipy.nearest_city(coordinate[0], coordinate[1]).city_name,\n",
    "          citipy.nearest_city(coordinate[0], coordinate[1]).country_code)"
   ]
  },
  {
   "cell_type": "code",
   "execution_count": 28,
   "id": "a6661a72",
   "metadata": {},
   "outputs": [],
   "source": [
    "#Importing requests library\n",
    "import requests\n",
    "\n",
    "#Importing API key\n",
    "from config import weather_api_key"
   ]
  },
  {
   "cell_type": "code",
   "execution_count": 29,
   "outputs": [],
   "source": [
    "# Starting URL for Weather Map API Call.\n",
    "url = 'http://api.openweathermap.org/data/2.5/weather?units=Imperial&APPID=' + weather_api_key\n",
    "cityUrl = url + '&q=' + 'Boston'"
   ],
   "metadata": {
    "collapsed": false,
    "pycharm": {
     "name": "#%%\n"
    }
   }
  },
  {
   "cell_type": "code",
   "execution_count": 30,
   "outputs": [
    {
     "data": {
      "text/plain": "<Response [200]>"
     },
     "execution_count": 30,
     "metadata": {},
     "output_type": "execute_result"
    }
   ],
   "source": [
    "# Make a 'Get' request for the Boston city weather.\n",
    "cityWeather = requests.get(cityUrl)\n",
    "cityWeather"
   ],
   "metadata": {
    "collapsed": false,
    "pycharm": {
     "name": "#%%\n"
    }
   }
  },
  {
   "cell_type": "code",
   "execution_count": 31,
   "outputs": [
    {
     "data": {
      "text/plain": "'{\"coord\":{\"lon\":-71.0598,\"lat\":42.3584},\"weather\":[{\"id\":803,\"main\":\"Clouds\",\"description\":\"broken clouds\",\"icon\":\"04n\"}],\"base\":\"stations\",\"main\":{\"temp\":32.58,\"feels_like\":29.97,\"temp_min\":28.56,\"temp_max\":35.55,\"pressure\":1015,\"humidity\":80},\"visibility\":10000,\"wind\":{\"speed\":3,\"deg\":306,\"gust\":8.01},\"clouds\":{\"all\":75},\"dt\":1638348095,\"sys\":{\"type\":2,\"id\":2013408,\"country\":\"US\",\"sunrise\":1638359654,\"sunset\":1638393176},\"timezone\":-18000,\"id\":4930956,\"name\":\"Boston\",\"cod\":200}'"
     },
     "execution_count": 31,
     "metadata": {},
     "output_type": "execute_result"
    }
   ],
   "source": [
    "# Get the text of the 'Get' request.\n",
    "cityWeather.text"
   ],
   "metadata": {
    "collapsed": false,
    "pycharm": {
     "name": "#%%\n"
    }
   }
  },
  {
   "cell_type": "code",
   "execution_count": 32,
   "outputs": [
    {
     "data": {
      "text/plain": "{'coord': {'lon': -71.0598, 'lat': 42.3584},\n 'weather': [{'id': 803,\n   'main': 'Clouds',\n   'description': 'broken clouds',\n   'icon': '04n'}],\n 'base': 'stations',\n 'main': {'temp': 32.58,\n  'feels_like': 29.97,\n  'temp_min': 28.56,\n  'temp_max': 35.55,\n  'pressure': 1015,\n  'humidity': 80},\n 'visibility': 10000,\n 'wind': {'speed': 3, 'deg': 306, 'gust': 8.01},\n 'clouds': {'all': 75},\n 'dt': 1638348095,\n 'sys': {'type': 2,\n  'id': 2013408,\n  'country': 'US',\n  'sunrise': 1638359654,\n  'sunset': 1638393176},\n 'timezone': -18000,\n 'id': 4930956,\n 'name': 'Boston',\n 'cod': 200}"
     },
     "execution_count": 32,
     "metadata": {},
     "output_type": "execute_result"
    }
   ],
   "source": [
    "# Get the JSON text of the 'Get' request.\n",
    "cityWeather.json()"
   ],
   "metadata": {
    "collapsed": false,
    "pycharm": {
     "name": "#%%\n"
    }
   }
  },
  {
   "cell_type": "code",
   "execution_count": 36,
   "outputs": [
    {
     "data": {
      "text/plain": "{'coord': {'lon': -71.0598, 'lat': 42.3584},\n 'weather': [{'id': 803,\n   'main': 'Clouds',\n   'description': 'broken clouds',\n   'icon': '04n'}],\n 'base': 'stations',\n 'main': {'temp': 32.29,\n  'feels_like': 32.29,\n  'temp_min': 28.22,\n  'temp_max': 35.49,\n  'pressure': 1015,\n  'humidity': 81},\n 'visibility': 10000,\n 'wind': {'speed': 1.99, 'deg': 305, 'gust': 5.99},\n 'clouds': {'all': 64},\n 'dt': 1638349187,\n 'sys': {'type': 2,\n  'id': 2013408,\n  'country': 'US',\n  'sunrise': 1638359654,\n  'sunset': 1638393176},\n 'timezone': -18000,\n 'id': 4930956,\n 'name': 'Boston',\n 'cod': 200}"
     },
     "execution_count": 36,
     "metadata": {},
     "output_type": "execute_result"
    }
   ],
   "source": [
    "# Create an endpoint URL for a city.\n",
    "cityUrl = url + '&q=' + 'Boston'\n",
    "cityWeather = requests.get(cityUrl)\n"
   ],
   "metadata": {
    "collapsed": false,
    "pycharm": {
     "name": "#%%\n"
    }
   }
  },
  {
   "cell_type": "code",
   "execution_count": 38,
   "outputs": [],
   "source": [
    "#Getting weather data for boston\n",
    "bostonData = cityWeather.json()"
   ],
   "metadata": {
    "collapsed": false,
    "pycharm": {
     "name": "#%%\n"
    }
   }
  },
  {
   "cell_type": "code",
   "execution_count": 40,
   "outputs": [
    {
     "data": {
      "text/plain": "'US'"
     },
     "execution_count": 40,
     "metadata": {},
     "output_type": "execute_result"
    }
   ],
   "source": [
    "bostonData['sys']['country']"
   ],
   "metadata": {
    "collapsed": false,
    "pycharm": {
     "name": "#%%\n"
    }
   }
  },
  {
   "cell_type": "code",
   "execution_count": 43,
   "outputs": [
    {
     "data": {
      "text/plain": "1638349187"
     },
     "execution_count": 43,
     "metadata": {},
     "output_type": "execute_result"
    }
   ],
   "source": [
    "bostonData['dt']"
   ],
   "metadata": {
    "collapsed": false,
    "pycharm": {
     "name": "#%%\n"
    }
   }
  },
  {
   "cell_type": "code",
   "execution_count": 44,
   "outputs": [
    {
     "name": "stdout",
     "output_type": "stream",
     "text": [
      "42.3584 -71.0598 35.49 81 64 1.99\n"
     ]
    }
   ],
   "source": [
    "lat = bostonData['coord']['lat']\n",
    "lng = bostonData['coord']['lon']\n",
    "maxTemp = bostonData['main']['temp_max']\n",
    "humidity = bostonData['main']['humidity']\n",
    "clouds = bostonData['clouds']['all']\n",
    "wind = bostonData['wind']['speed']\n",
    "print(lat,lng,maxTemp,humidity,clouds,wind)"
   ],
   "metadata": {
    "collapsed": false,
    "pycharm": {
     "name": "#%%\n"
    }
   }
  },
  {
   "cell_type": "code",
   "execution_count": 47,
   "outputs": [
    {
     "data": {
      "text/plain": "'2021-12-01 08:59:47'"
     },
     "execution_count": 47,
     "metadata": {},
     "output_type": "execute_result"
    }
   ],
   "source": [
    "# Import the datetime module from the datetime library.\n",
    "from datetime import datetime\n",
    "\n",
    "#Get the date from the Json file\n",
    "date = bostonData['dt']\n",
    "\n",
    "#converting the UTC date to a date format with year, month, day, hours, minues and seconds\n",
    "datetime.utcfromtimestamp(date).strftime('%Y-%m-%d %H:%M:%S')"
   ],
   "metadata": {
    "collapsed": false,
    "pycharm": {
     "name": "#%%\n"
    }
   }
  }
 ],
 "metadata": {
  "kernelspec": {
   "display_name": "PythonData",
   "language": "python",
   "name": "pythondata"
  },
  "language_info": {
   "codemirror_mode": {
    "name": "ipython",
    "version": 3
   },
   "file_extension": ".py",
   "mimetype": "text/x-python",
   "name": "python",
   "nbconvert_exporter": "python",
   "pygments_lexer": "ipython3",
   "version": "3.7.10"
  }
 },
 "nbformat": 4,
 "nbformat_minor": 5
}