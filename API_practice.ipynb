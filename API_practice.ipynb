{
 "cells": [
  {
   "cell_type": "code",
   "execution_count": 1,
   "id": "3618b4bb",
   "metadata": {},
   "outputs": [],
   "source": [
    "# Creating a practice set of random latitude and longitude combinations.\n",
    "x = [25.12903645, 25.92017388, 26.62509167, -59.98969384, 37.30571269]\n",
    "y = [-67.59741259, 11.09532135, 74.84233102, -76.89176677, -61.13376282]\n",
    "coordinates = zip(x, y)"
   ]
  },
  {
   "cell_type": "code",
   "execution_count": 2,
   "id": "02574b46",
   "metadata": {},
   "outputs": [
    {
     "name": "stdout",
     "output_type": "stream",
     "text": [
      "25.12903645 -67.59741259\n",
      "25.92017388 11.09532135\n",
      "26.62509167 74.84233102\n",
      "-59.98969384 -76.89176677\n",
      "37.30571269 -61.13376282\n"
     ]
    }
   ],
   "source": [
    "# Uses the tuple() function to display the latitude and longitude combinations.\n",
    "for coordinate in coordinates:\n",
    "    print(coordinate[0],coordinate[1])"
   ]
  },
  {
   "cell_type": "code",
   "execution_count": 3,
   "id": "580bdba4",
   "metadata": {},
   "outputs": [],
   "source": [
    "#importing dependency\n",
    "# Using the citipy module to determine city based on latitude and longitude.\n",
    "from citipy import citipy\n",
    "import sys\n",
    "# Creating a practice set of random latitude and longitude combinations.\n",
    "x = [25.12903645, 25.92017388, 26.62509167, -59.98969384, 37.30571269]\n",
    "y = [-67.59741259, 11.09532135, 74.84233102, -76.89176677, -61.13376282]\n",
    "coordinates = zip(x, y)"
   ]
  },
  {
   "cell_type": "code",
   "execution_count": 4,
   "id": "5f923a6b",
   "metadata": {},
   "outputs": [
    {
     "name": "stdout",
     "output_type": "stream",
     "text": [
      "cockburn town tc\n",
      "gat ly\n",
      "parvatsar in\n",
      "punta arenas cl\n",
      "saint george bm\n"
     ]
    }
   ],
   "source": [
    "# Using the tuple() function to display the latitude and longitude combinations.\n",
    "for coordinate in coordinates:\n",
    "    print(citipy.nearest_city(coordinate[0], coordinate[1]).city_name,\n",
    "          citipy.nearest_city(coordinate[0], coordinate[1]).country_code)"
   ]
  },
  {
   "cell_type": "code",
   "execution_count": 5,
   "id": "a6661a72",
   "metadata": {},
   "outputs": [],
   "source": [
    "#Importing requests library\n",
    "import requests\n",
    "\n",
    "#Importing API key\n",
    "from config import weather_api_key"
   ]
  },
  {
   "cell_type": "code",
   "execution_count": 6,
   "outputs": [],
   "source": [
    "# Starting URL for Weather Map API Call.\n",
    "url = 'http://api.openweathermap.org/data/2.5/weather?units=Imperial&APPID=' + weather_api_key\n",
    "cityUrl = url + '&q=' + 'Boston'"
   ],
   "metadata": {
    "collapsed": false,
    "pycharm": {
     "name": "#%%\n"
    }
   }
  },
  {
   "cell_type": "code",
   "execution_count": 7,
   "outputs": [
    {
     "data": {
      "text/plain": "<Response [200]>"
     },
     "execution_count": 7,
     "metadata": {},
     "output_type": "execute_result"
    }
   ],
   "source": [
    "# Make a 'Get' request for the Boston city weather.\n",
    "cityWeather = requests.get(cityUrl)\n",
    "cityWeather"
   ],
   "metadata": {
    "collapsed": false,
    "pycharm": {
     "name": "#%%\n"
    }
   }
  },
  {
   "cell_type": "code",
   "execution_count": 8,
   "outputs": [
    {
     "data": {
      "text/plain": "'{\"coord\":{\"lon\":-71.0598,\"lat\":42.3584},\"weather\":[{\"id\":804,\"main\":\"Clouds\",\"description\":\"overcast clouds\",\"icon\":\"04n\"}],\"base\":\"stations\",\"main\":{\"temp\":35.42,\"feels_like\":32.02,\"temp_min\":29.95,\"temp_max\":41.14,\"pressure\":1018,\"humidity\":73},\"visibility\":10000,\"wind\":{\"speed\":4,\"deg\":0,\"gust\":0},\"clouds\":{\"all\":90},\"dt\":1638432412,\"sys\":{\"type\":2,\"id\":2013408,\"country\":\"US\",\"sunrise\":1638446117,\"sunset\":1638479558},\"timezone\":-18000,\"id\":4930956,\"name\":\"Boston\",\"cod\":200}'"
     },
     "execution_count": 8,
     "metadata": {},
     "output_type": "execute_result"
    }
   ],
   "source": [
    "# Get the text of the 'Get' request.\n",
    "cityWeather.text"
   ],
   "metadata": {
    "collapsed": false,
    "pycharm": {
     "name": "#%%\n"
    }
   }
  },
  {
   "cell_type": "code",
   "execution_count": 9,
   "outputs": [
    {
     "data": {
      "text/plain": "{'coord': {'lon': -71.0598, 'lat': 42.3584},\n 'weather': [{'id': 804,\n   'main': 'Clouds',\n   'description': 'overcast clouds',\n   'icon': '04n'}],\n 'base': 'stations',\n 'main': {'temp': 35.42,\n  'feels_like': 32.02,\n  'temp_min': 29.95,\n  'temp_max': 41.14,\n  'pressure': 1018,\n  'humidity': 73},\n 'visibility': 10000,\n 'wind': {'speed': 4, 'deg': 0, 'gust': 0},\n 'clouds': {'all': 90},\n 'dt': 1638432412,\n 'sys': {'type': 2,\n  'id': 2013408,\n  'country': 'US',\n  'sunrise': 1638446117,\n  'sunset': 1638479558},\n 'timezone': -18000,\n 'id': 4930956,\n 'name': 'Boston',\n 'cod': 200}"
     },
     "execution_count": 9,
     "metadata": {},
     "output_type": "execute_result"
    }
   ],
   "source": [
    "# Get the JSON text of the 'Get' request.\n",
    "cityWeather.json()"
   ],
   "metadata": {
    "collapsed": false,
    "pycharm": {
     "name": "#%%\n"
    }
   }
  },
  {
   "cell_type": "code",
   "execution_count": 10,
   "outputs": [],
   "source": [
    "# Create an endpoint URL for a city.\n",
    "cityUrl = url + '&q=' + 'Boston'\n",
    "cityWeather = requests.get(cityUrl)\n"
   ],
   "metadata": {
    "collapsed": false,
    "pycharm": {
     "name": "#%%\n"
    }
   }
  },
  {
   "cell_type": "code",
   "execution_count": 11,
   "outputs": [],
   "source": [
    "#Getting weather data for boston\n",
    "bostonData = cityWeather.json()"
   ],
   "metadata": {
    "collapsed": false,
    "pycharm": {
     "name": "#%%\n"
    }
   }
  },
  {
   "cell_type": "code",
   "execution_count": 12,
   "outputs": [
    {
     "data": {
      "text/plain": "'US'"
     },
     "execution_count": 12,
     "metadata": {},
     "output_type": "execute_result"
    }
   ],
   "source": [
    "bostonData['sys']['country']"
   ],
   "metadata": {
    "collapsed": false,
    "pycharm": {
     "name": "#%%\n"
    }
   }
  },
  {
   "cell_type": "code",
   "execution_count": 13,
   "outputs": [
    {
     "data": {
      "text/plain": "1638432412"
     },
     "execution_count": 13,
     "metadata": {},
     "output_type": "execute_result"
    }
   ],
   "source": [
    "bostonData['dt']"
   ],
   "metadata": {
    "collapsed": false,
    "pycharm": {
     "name": "#%%\n"
    }
   }
  },
  {
   "cell_type": "code",
   "execution_count": 14,
   "outputs": [
    {
     "name": "stdout",
     "output_type": "stream",
     "text": [
      "42.3584 -71.0598 41.14 73 90 4\n"
     ]
    }
   ],
   "source": [
    "lat = bostonData['coord']['lat']\n",
    "lng = bostonData['coord']['lon']\n",
    "maxTemp = bostonData['main']['temp_max']\n",
    "humidity = bostonData['main']['humidity']\n",
    "clouds = bostonData['clouds']['all']\n",
    "wind = bostonData['wind']['speed']\n",
    "print(lat,lng,maxTemp,humidity,clouds,wind)"
   ],
   "metadata": {
    "collapsed": false,
    "pycharm": {
     "name": "#%%\n"
    }
   }
  },
  {
   "cell_type": "code",
   "execution_count": 15,
   "outputs": [
    {
     "data": {
      "text/plain": "'2021-12-02 08:06:52'"
     },
     "execution_count": 15,
     "metadata": {},
     "output_type": "execute_result"
    }
   ],
   "source": [
    "# Import the datetime module from the datetime library.\n",
    "from datetime import datetime\n",
    "\n",
    "#Get the date from the Json file\n",
    "date = bostonData['dt']\n",
    "\n",
    "#converting the UTC date to a date format with year, month, day, hours, minues and seconds\n",
    "datetime.utcfromtimestamp(date).strftime('%Y-%m-%d %H:%M:%S')"
   ],
   "metadata": {
    "collapsed": false,
    "pycharm": {
     "name": "#%%\n"
    }
   }
  },
  {
   "cell_type": "code",
   "execution_count": 17,
   "outputs": [
    {
     "data": {
      "text/plain": "'12/02/21'"
     },
     "execution_count": 17,
     "metadata": {},
     "output_type": "execute_result"
    }
   ],
   "source": [
    "#Importing the time module\n",
    "import time\n",
    "#getting todays date in seconds\n",
    "today = time.strftime('%x')\n",
    "today"
   ],
   "metadata": {
    "collapsed": false,
    "pycharm": {
     "name": "#%%\n"
    }
   }
  }
 ],
 "metadata": {
  "kernelspec": {
   "display_name": "PythonData",
   "language": "python",
   "name": "pythondata"
  },
  "language_info": {
   "codemirror_mode": {
    "name": "ipython",
    "version": 3
   },
   "file_extension": ".py",
   "mimetype": "text/x-python",
   "name": "python",
   "nbconvert_exporter": "python",
   "pygments_lexer": "ipython3",
   "version": "3.7.10"
  }
 },
 "nbformat": 4,
 "nbformat_minor": 5
}