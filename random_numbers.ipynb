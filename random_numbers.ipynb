{
 "cells": [
  {
   "cell_type": "code",
   "execution_count": 74,
   "id": "bcb35b09",
   "metadata": {},
   "outputs": [],
   "source": [
    "#Importing dependencies\n",
    "import random\n",
    "import numpy as np\n",
    "import timeit"
   ]
  },
  {
   "cell_type": "code",
   "execution_count": 75,
   "id": "4d38c201",
   "metadata": {},
   "outputs": [
    {
     "data": {
      "text/plain": [
       "-51"
      ]
     },
     "execution_count": 75,
     "metadata": {},
     "output_type": "execute_result"
    }
   ],
   "source": [
    "random.randint(-90,90)\n"
   ]
  },
  {
   "cell_type": "code",
   "execution_count": 76,
   "id": "ff577bf8",
   "metadata": {},
   "outputs": [
    {
     "data": {
      "text/plain": [
       "0.5415817083684304"
      ]
     },
     "execution_count": 76,
     "metadata": {},
     "output_type": "execute_result"
    }
   ],
   "source": [
    "random.random()"
   ]
  },
  {
   "cell_type": "code",
   "execution_count": 77,
   "id": "004bed20",
   "metadata": {},
   "outputs": [
    {
     "data": {
      "text/plain": [
       "38.770968641073644"
      ]
     },
     "execution_count": 77,
     "metadata": {},
     "output_type": "execute_result"
    }
   ],
   "source": [
    "randomNumber = random.randint(-90,89) + random.random()\n",
    "randomNumber"
   ]
  },
  {
   "cell_type": "code",
   "execution_count": 78,
   "id": "6c886997",
   "metadata": {},
   "outputs": [
    {
     "data": {
      "text/plain": [
       "[-89.34554954003453,\n",
       " 79.34125027185686,\n",
       " -47.63721867114609,\n",
       " 46.73476825132157,\n",
       " -69.68775969427848,\n",
       " 74.56767027772352,\n",
       " -40.258117395398905,\n",
       " -11.034976452357952,\n",
       " -87.48787391229584,\n",
       " -43.49845488249499]"
      ]
     },
     "execution_count": 78,
     "metadata": {},
     "output_type": "execute_result"
    }
   ],
   "source": [
    "#generating 10 random latitudes using a while loop \n",
    "x = 1\n",
    "latitudes = []\n",
    "while x < 11:\n",
    "    randomLat = random.randint(-90,89) + random.random()\n",
    "    latitudes.append(randomLat)\n",
    "    x += 1\n",
    "latitudes"
   ]
  },
  {
   "cell_type": "code",
   "execution_count": 79,
   "id": "fbb7a75c",
   "metadata": {},
   "outputs": [
    {
     "data": {
      "text/plain": [
       "37"
      ]
     },
     "execution_count": 79,
     "metadata": {},
     "output_type": "execute_result"
    }
   ],
   "source": [
    "random.randrange(-90,90,step=1)"
   ]
  },
  {
   "cell_type": "code",
   "execution_count": 80,
   "id": "fe803aa6",
   "metadata": {},
   "outputs": [
    {
     "data": {
      "text/plain": [
       "67.77578330535047"
      ]
     },
     "execution_count": 80,
     "metadata": {},
     "output_type": "execute_result"
    }
   ],
   "source": [
    "random.uniform(-90,90)"
   ]
  },
  {
   "cell_type": "code",
   "execution_count": 81,
   "id": "322a0ff0",
   "metadata": {},
   "outputs": [
    {
     "data": {
      "text/plain": [
       "-73.01268494833138"
      ]
     },
     "execution_count": 81,
     "metadata": {},
     "output_type": "execute_result"
    }
   ],
   "source": [
    "np.random.uniform(-90.000,90.000)"
   ]
  },
  {
   "cell_type": "code",
   "execution_count": 82,
   "id": "71729815",
   "metadata": {},
   "outputs": [
    {
     "data": {
      "text/plain": [
       "array([ 43.24749168,   4.69977075,  -4.31714781,  10.34128312,\n",
       "        17.70541423,  27.00687777, -39.67183468,  59.13032521,\n",
       "        29.60527672,   9.52925786,  39.6034859 ,   5.21042891,\n",
       "        65.59162357,  -7.1671077 ,  -1.62811974,  16.60270907,\n",
       "         3.69221018,  82.57935355, -73.88322996,   0.15341291,\n",
       "         8.72473075, -52.75982494,  -4.2817199 ,  34.53494725,\n",
       "         0.04144069, -78.93145617,  44.48742561,  21.48337638,\n",
       "       -32.81560485, -19.48095461,  49.54048218,  29.5467722 ,\n",
       "       -22.7960091 , -43.26046697,  66.65170918, -21.46890176,\n",
       "        86.32644321,  -1.0235029 ,  16.92582861, -34.75750691,\n",
       "        20.86801074,  14.59288404, -87.82649492, -35.47022966,\n",
       "       -49.88576605,  -6.27320233,  83.84198373,  65.8174916 ,\n",
       "       -71.81235937, -43.08598455])"
      ]
     },
     "execution_count": 82,
     "metadata": {},
     "output_type": "execute_result"
    }
   ],
   "source": [
    "#Generating latitude using NumPy\n",
    "np.random.uniform(-90.000,90.000, size=50)\n"
   ]
  },
  {
   "cell_type": "code",
   "execution_count": 83,
   "id": "4e500c97",
   "metadata": {},
   "outputs": [
    {
     "name": "stdout",
     "output_type": "stream",
     "text": [
      "17.2 µs ± 81.8 ns per loop (mean ± std. dev. of 7 runs, 100000 loops each)\n"
     ]
    }
   ],
   "source": [
    "#Generating latitude using NumPy\n",
    "%timeit np.random.uniform(-90.000,90.000, size=1500)"
   ]
  },
  {
   "cell_type": "code",
   "execution_count": 87,
   "id": "2b54f57a",
   "metadata": {},
   "outputs": [
    {
     "name": "stdout",
     "output_type": "stream",
     "text": [
      "2.61 ms ± 29 µs per loop (mean ± std. dev. of 7 runs, 100 loops each)\n"
     ]
    }
   ],
   "source": [
    "#Using for loop to generate 1500 latitudes\n",
    "def latitudes(size):\n",
    "    latitudes = []\n",
    "    x = 0\n",
    "    for x in range(size):\n",
    "        random_lat = random.randint(-90, 90) + random.random()\n",
    "        latitudes.append(random_lat)\n",
    "        x += 1\n",
    "    return latitudes\n",
    "# Call the function with 1500.\n",
    "%timeit latitudes(1500)"
   ]
  },
  {
   "cell_type": "code",
   "execution_count": null,
   "id": "d60dd2bb",
   "metadata": {},
   "outputs": [],
   "source": []
  }
 ],
 "metadata": {
  "kernelspec": {
   "display_name": "PythonData",
   "language": "python",
   "name": "pythondata"
  },
  "language_info": {
   "codemirror_mode": {
    "name": "ipython",
    "version": 3
   },
   "file_extension": ".py",
   "mimetype": "text/x-python",
   "name": "python",
   "nbconvert_exporter": "python",
   "pygments_lexer": "ipython3",
   "version": "3.7.10"
  }
 },
 "nbformat": 4,
 "nbformat_minor": 5
}
