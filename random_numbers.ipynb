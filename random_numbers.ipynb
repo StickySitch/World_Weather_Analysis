{
 "cells": [
  {
   "cell_type": "code",
   "execution_count": 1,
   "id": "bcb35b09",
   "metadata": {},
   "outputs": [],
   "source": [
    "#Importing dependencies\n",
    "import random\n",
    "import numpy as np\n",
    "import timeit"
   ]
  },
  {
   "cell_type": "code",
   "execution_count": 2,
   "id": "4d38c201",
   "metadata": {},
   "outputs": [
    {
     "data": {
      "text/plain": "-31"
     },
     "execution_count": 2,
     "metadata": {},
     "output_type": "execute_result"
    }
   ],
   "source": [
    "random.randint(-90,90)\n"
   ]
  },
  {
   "cell_type": "code",
   "execution_count": 3,
   "id": "ff577bf8",
   "metadata": {},
   "outputs": [
    {
     "data": {
      "text/plain": "0.7653627270865797"
     },
     "execution_count": 3,
     "metadata": {},
     "output_type": "execute_result"
    }
   ],
   "source": [
    "random.random()"
   ]
  },
  {
   "cell_type": "code",
   "execution_count": 4,
   "id": "004bed20",
   "metadata": {},
   "outputs": [
    {
     "data": {
      "text/plain": "27.909779860881898"
     },
     "execution_count": 4,
     "metadata": {},
     "output_type": "execute_result"
    }
   ],
   "source": [
    "randomNumber = random.randint(-90,89) + random.random()\n",
    "randomNumber"
   ]
  },
  {
   "cell_type": "code",
   "execution_count": 5,
   "id": "6c886997",
   "metadata": {},
   "outputs": [
    {
     "data": {
      "text/plain": "[-22.377807378737586,\n 58.76255460265901,\n -53.09861945636009,\n -46.39982234234055,\n 74.51240310850395,\n -80.5271313239259,\n 39.22439780579088,\n -42.92412878442537,\n -44.969630397089816,\n 76.54713970770561]"
     },
     "execution_count": 5,
     "metadata": {},
     "output_type": "execute_result"
    }
   ],
   "source": [
    "#generating 10 random latitudes using a while loop \n",
    "x = 1\n",
    "latitudes = []\n",
    "while x < 11:\n",
    "    randomLat = random.randint(-90,89) + random.random()\n",
    "    latitudes.append(randomLat)\n",
    "    x += 1\n",
    "latitudes"
   ]
  },
  {
   "cell_type": "code",
   "execution_count": 6,
   "id": "fbb7a75c",
   "metadata": {},
   "outputs": [
    {
     "data": {
      "text/plain": "-54"
     },
     "execution_count": 6,
     "metadata": {},
     "output_type": "execute_result"
    }
   ],
   "source": [
    "random.randrange(-90,90,step=1)"
   ]
  },
  {
   "cell_type": "code",
   "execution_count": 7,
   "id": "fe803aa6",
   "metadata": {},
   "outputs": [
    {
     "data": {
      "text/plain": "29.219129614420822"
     },
     "execution_count": 7,
     "metadata": {},
     "output_type": "execute_result"
    }
   ],
   "source": [
    "random.uniform(-90,90)"
   ]
  },
  {
   "cell_type": "code",
   "execution_count": 8,
   "id": "322a0ff0",
   "metadata": {},
   "outputs": [
    {
     "data": {
      "text/plain": "83.59590958276368"
     },
     "execution_count": 8,
     "metadata": {},
     "output_type": "execute_result"
    }
   ],
   "source": [
    "np.random.uniform(-90.000,90.000)"
   ]
  },
  {
   "cell_type": "code",
   "execution_count": 9,
   "id": "71729815",
   "metadata": {},
   "outputs": [
    {
     "data": {
      "text/plain": "array([ 80.7520477 , -64.20318197,  32.66892074,  38.53039806,\n        61.22689511, -22.50590803, -32.26201703,  19.4410833 ,\n        -5.48910163,  39.44991161,  -6.82253344, -26.94377465,\n        74.20387526, -21.41842753,  55.56728825, -31.78920031,\n        37.08550519,  -9.74390589, -66.14040963,  14.9868239 ,\n        21.62194327,  36.73683346, -55.52088211, -89.52779053,\n        70.90876631,  68.48234617,   3.96159852, -68.68612929,\n        30.22290478, -87.78154382,  83.14173272,  82.5024857 ,\n       -14.3705767 , -60.81834059,  -0.28392602,  16.89778801,\n       -24.67953839, -25.02574422, -39.82168846, -36.86833224,\n        82.42363807, -28.77815459, -78.51568368,  14.35701424,\n       -48.58142771, -23.05950833,  17.81925779, -57.99606025,\n       -38.23465111, -84.20847233])"
     },
     "execution_count": 9,
     "metadata": {},
     "output_type": "execute_result"
    }
   ],
   "source": [
    "#Generating latitude using NumPy\n",
    "np.random.uniform(-90.000,90.000, size=50)\n"
   ]
  },
  {
   "cell_type": "code",
   "execution_count": 10,
   "id": "4e500c97",
   "metadata": {},
   "outputs": [
    {
     "name": "stdout",
     "output_type": "stream",
     "text": [
      "17.5 µs ± 118 ns per loop (mean ± std. dev. of 7 runs, 100000 loops each)\n"
     ]
    }
   ],
   "source": [
    "#Generating latitude using NumPy\n",
    "%timeit np.random.uniform(-90.000,90.000, size=1500)"
   ]
  },
  {
   "cell_type": "code",
   "execution_count": 11,
   "id": "2b54f57a",
   "metadata": {},
   "outputs": [
    {
     "name": "stdout",
     "output_type": "stream",
     "text": [
      "2.64 ms ± 45 µs per loop (mean ± std. dev. of 7 runs, 100 loops each)\n"
     ]
    }
   ],
   "source": [
    "#Using for loop to generate 1500 latitudes\n",
    "def latitudes(size):\n",
    "    latitudes = []\n",
    "    x = 0\n",
    "    for x in range(size):\n",
    "        random_lat = random.randint(-90, 90) + random.random()\n",
    "        latitudes.append(random_lat)\n",
    "        x += 1\n",
    "    return latitudes\n",
    "# Call the function with 1500.\n",
    "%timeit latitudes(1500)"
   ]
  },
  {
   "cell_type": "code",
   "execution_count": 11,
   "id": "d60dd2bb",
   "metadata": {},
   "outputs": [],
   "source": []
  }
 ],
 "metadata": {
  "kernelspec": {
   "display_name": "PythonData",
   "language": "python",
   "name": "pythondata"
  },
  "language_info": {
   "codemirror_mode": {
    "name": "ipython",
    "version": 3
   },
   "file_extension": ".py",
   "mimetype": "text/x-python",
   "name": "python",
   "nbconvert_exporter": "python",
   "pygments_lexer": "ipython3",
   "version": "3.7.10"
  }
 },
 "nbformat": 4,
 "nbformat_minor": 5
}